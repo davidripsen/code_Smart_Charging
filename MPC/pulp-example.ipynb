{
 "cells": [
  {
   "cell_type": "code",
   "execution_count": 6,
   "metadata": {},
   "outputs": [],
   "source": [
    "from pulp import *"
   ]
  },
  {
   "cell_type": "code",
   "execution_count": 59,
   "metadata": {},
   "outputs": [
    {
     "name": "stdout",
     "output_type": "stream",
     "text": [
      "Welcome to the CBC MILP Solver \n",
      "Version: 2.10.3 \n",
      "Build Date: Dec 15 2019 \n",
      "\n",
      "command line - /opt/homebrew/Caskroom/miniforge/base/envs/cforge_env/lib/python3.9/site-packages/pulp/apis/../solverdir/cbc/osx/64/cbc /var/folders/wv/j_lqm8yn4ndb1hvhthjcrb540000gn/T/06ed4fa525534f72aed1f924805f8d0f-pulp.mps max timeMode elapsed branch printingOptions all solution /var/folders/wv/j_lqm8yn4ndb1hvhthjcrb540000gn/T/06ed4fa525534f72aed1f924805f8d0f-pulp.sol (default strategy 1)\n",
      "At line 2 NAME          MODEL\n",
      "At line 3 ROWS\n",
      "At line 12 COLUMNS\n",
      "At line 30 RHS\n",
      "At line 38 BOUNDS\n",
      "At line 42 ENDATA\n",
      "Problem MODEL has 7 rows, 3 columns and 12 elements\n",
      "Coin0008I MODEL read with 0 errors\n",
      "Option for timeMode changed from cpu to elapsed\n",
      "Continuous objective value is 3.825 - 0.00 seconds\n",
      "Cgl0003I 0 fixed, 0 tightened bounds, 2 strengthened rows, 0 substitutions\n",
      "Cgl0004I processed model has 2 rows, 3 columns (1 integer (1 of which binary)) and 6 elements\n",
      "Cbc0038I Initial state - 0 integers unsatisfied sum - 0\n",
      "Cbc0038I Solution found of -3.25\n",
      "Cbc0038I Relaxing continuous gives -3.25\n",
      "Cbc0038I Before mini branch and bound, 1 integers at bound fixed and 1 continuous\n",
      "Cbc0038I Mini branch and bound did not improve solution (0.00 seconds)\n",
      "Cbc0038I After 0.00 seconds - Feasibility pump exiting with objective of -3.25 - took 0.00 seconds\n",
      "Cbc0012I Integer solution of -3.25 found by feasibility pump after 0 iterations and 0 nodes (0.00 seconds)\n",
      "Cbc0001I Search completed - best objective -3.25, took 0 iterations and 0 nodes (0.00 seconds)\n",
      "Cbc0035I Maximum depth 0, 0 variables fixed on reduced cost\n",
      "Cuts at root node changed objective from -3.25 to -3.25\n",
      "Probing was tried 0 times and created 0 cuts of which 0 were active after adding rounds of cuts (0.000 seconds)\n",
      "Gomory was tried 0 times and created 0 cuts of which 0 were active after adding rounds of cuts (0.000 seconds)\n",
      "Knapsack was tried 0 times and created 0 cuts of which 0 were active after adding rounds of cuts (0.000 seconds)\n",
      "Clique was tried 0 times and created 0 cuts of which 0 were active after adding rounds of cuts (0.000 seconds)\n",
      "MixedIntegerRounding2 was tried 0 times and created 0 cuts of which 0 were active after adding rounds of cuts (0.000 seconds)\n",
      "FlowCover was tried 0 times and created 0 cuts of which 0 were active after adding rounds of cuts (0.000 seconds)\n",
      "TwoMirCuts was tried 0 times and created 0 cuts of which 0 were active after adding rounds of cuts (0.000 seconds)\n",
      "ZeroHalf was tried 0 times and created 0 cuts of which 0 were active after adding rounds of cuts (0.000 seconds)\n",
      "\n",
      "Result - Optimal solution found\n",
      "\n",
      "Objective value:                3.25000000\n",
      "Enumerated nodes:               0\n",
      "Total iterations:               0\n",
      "Time (CPU seconds):             0.00\n",
      "Time (Wallclock seconds):       0.00\n",
      "\n",
      "Option for printingOptions changed from normal to all\n",
      "Total time (CPU seconds):       0.00   (Wallclock seconds):       0.01\n",
      "\n"
     ]
    }
   ],
   "source": [
    "# Init problem\n",
    "prob = LpProblem(\"Prop\",LpMaximize)\n",
    "\n",
    "# Init variables\n",
    "x = LpVariable(\"x\",0,3)\n",
    "y = LpVariable(\"y\",0,1)\n",
    "z = LpVariable(\"z\",0,1, cat=LpInteger) # Binary\n",
    "\n",
    "# Objective\n",
    "prob += 3*x + 2*y - z, \"MAX profit\"\n",
    "\n",
    "# Constraints\n",
    "prob += x+y <= 2, \"låå1\"\n",
    "prob += -4*x + y >= -2, \"hey fed constrain 2\"\n",
    "\n",
    "# Fancy constraints\n",
    "prob += lpSum([x,y]) <= 2\n",
    "prob += lpDot([x,y],[3,2]) <= 10*z\n",
    "\n",
    "for i,b in enumerate([10,20,15]): # Loop over list\n",
    "    prob += [x,y,z][i] <= b\n",
    "\n",
    "# Export model\n",
    "prob.writeLP(\"Prop.lp\")\n",
    "\n",
    "# Solve\n",
    "status = prob.solve()\n"
   ]
  },
  {
   "cell_type": "code",
   "execution_count": 60,
   "metadata": {},
   "outputs": [
    {
     "name": "stdout",
     "output_type": "stream",
     "text": [
      "Optimal  at  3.25\n",
      "x = 0.75\n",
      "y = 1.0\n",
      "z = 1.0\n"
     ]
    }
   ],
   "source": [
    "# Solution\n",
    "print(LpStatus[status] + '  at  ' + str(value(prob.objective)))\n",
    "for v in prob.variables():\n",
    "    print(v.name, \"=\", v.varValue)"
   ]
  },
  {
   "cell_type": "markdown",
   "metadata": {},
   "source": []
  }
 ],
 "metadata": {
  "kernelspec": {
   "display_name": "Python 3.9.7 ('cforge_env')",
   "language": "python",
   "name": "python3"
  },
  "language_info": {
   "codemirror_mode": {
    "name": "ipython",
    "version": 3
   },
   "file_extension": ".py",
   "mimetype": "text/x-python",
   "name": "python",
   "nbconvert_exporter": "python",
   "pygments_lexer": "ipython3",
   "version": "3.9.7"
  },
  "orig_nbformat": 4,
  "vscode": {
   "interpreter": {
    "hash": "22b88df56edbb76b37fffad4013b5b5894902bb5c1bf7f9d2859a16185a8ff53"
   }
  }
 },
 "nbformat": 4,
 "nbformat_minor": 2
}
